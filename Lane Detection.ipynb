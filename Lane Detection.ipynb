{
 "cells": [
  {
   "cell_type": "code",
   "execution_count": null,
   "metadata": {
    "collapsed": true
   },
   "outputs": [],
   "source": [
    "import json\n",
    "import numpy as np\n",
    "import cv2\n",
    "import matplotlib.pyplot as plt\n",
    "import matplotlib.image as mpimg\n",
    "from evaluate.lane import LaneEval\n",
    "import random\n",
    "import os\n",
    "%matplotlib inline\n"
   ]
  },
  {
   "cell_type": "code",
   "execution_count": null,
   "metadata": {
    "collapsed": true
   },
   "outputs": [],
   "source": [
    "def show_samples(n_samples, images, randomize=False):\n",
    "    \"\"\"Shows multiple images from path list\"\"\"\n",
    "    for sample_n in range(n_samples):\n",
    "        if randomize:\n",
    "            n = random.randint(0, len(images)-1)\n",
    "        else:\n",
    "            n = sample_n\n",
    "        label = images[n][-32:-6]\n",
    "        fig = plt.figure(figsize=(30,6))\n",
    "        ax = plt.subplot(np.ceil(n_samples/3), 3, sample_n+1)\n",
    "        ax.set_title(label)\n",
    "        img = plt.imread(images[n])\n",
    "        ax.imshow(img)\n",
    "        ax.set_yticklabels([])\n",
    "        ax.set_xticklabels([])\n",
    "    plt.tight_layout()\n",
    "    plt.show()\n"
   ]
  },
  {
   "cell_type": "markdown",
   "metadata": {},
   "source": [
    "### Get Data And Create small subset for testing"
   ]
  },
  {
   "cell_type": "code",
   "execution_count": null,
   "metadata": {
    "collapsed": true
   },
   "outputs": [],
   "source": [
    "small_set = True\n",
    "### READ FILE\n",
    "data_path = \"train_set/\"\n",
    "json_gt = [json.loads(line) for line in open('train_set/label_data_0531.json')]\n",
    "if small_set:\n",
    "    subset = np.random.choice(json_gt, size=15, replace = False)\n",
    "    json_gt=subset\n",
    "\n",
    "def get_gt(json_list, index):\n",
    "    gt = json_list[index]\n",
    "    gt_lanes = gt['lanes']\n",
    "    y_samples = gt['h_samples']\n",
    "    raw_file = gt['raw_file']\n",
    "    return [raw_file, gt_lanes, y_samples]"
   ]
  },
  {
   "cell_type": "markdown",
   "metadata": {
    "collapsed": true
   },
   "source": [
    "### Examine Data"
   ]
  },
  {
   "cell_type": "code",
   "execution_count": null,
   "metadata": {
    "scrolled": false
   },
   "outputs": [],
   "source": [
    "from sys import getsizeof\n",
    "print(\"Total data: \",len(json_gt))\n",
    "example_data = get_gt(json_gt,2)\n",
    "print(\"Path example: \", example_data[0])\n",
    "print(\"Lane example: \", example_data[1])\n",
    "example_img=[]\n",
    "for i in range(3):\n",
    "    example_data=get_gt(json_gt, i)\n",
    "    example_img.append(\"train_set/\"+ example_data[0])\n",
    "show_samples(3, example_img)"
   ]
  },
  {
   "cell_type": "code",
   "execution_count": null,
   "metadata": {
    "collapsed": true
   },
   "outputs": [],
   "source": []
  },
  {
   "cell_type": "code",
   "execution_count": null,
   "metadata": {},
   "outputs": [],
   "source": []
  },
  {
   "cell_type": "code",
   "execution_count": null,
   "metadata": {},
   "outputs": [],
   "source": []
  },
  {
   "cell_type": "markdown",
   "metadata": {
    "collapsed": true,
    "scrolled": false
   },
   "source": [
    "### Preprocessing"
   ]
  },
  {
   "cell_type": "code",
   "execution_count": null,
   "metadata": {
    "collapsed": true
   },
   "outputs": [],
   "source": [
    "### Crop, as max index for evaluation is 160, no case\n",
    "##  in looking above\n",
    "def roi(img,y):\n",
    "    \"\"\"Region of Interest\"\"\"\n",
    "    return(img[y:len(img)])\n",
    "\n",
    "def draw_lanes(img, gt_lanes, y_samples):\n",
    "    gt_lanes_vis = [[(x, y) for (x, y) in zip(lane, y_samples) if x >= 0] for lane in gt_lanes]\n",
    "    img_vis = np.zeros_like(img)\n",
    "    for lane in gt_lanes_vis:\n",
    "        cv2.polylines(img_vis, np.int32([lane]), isClosed=False, color=(0,255,0), thickness=25)\n",
    "    return img_vis\n",
    "\n",
    "def color_mask(img, lower=[0,210,148], upper=[255,255,255]):\n",
    "    \"\"\"Returns mask from color image\"\"\"\n",
    "    return cv2.inRange(img, lower, upper)\n",
    "\n",
    "def gray_mask(img, lower=230, upper=255):\n",
    "    \"\"\"Returns mask from gray image\"\"\"    \n",
    "    return cv2.inRange(img, lower, upper)\n",
    "\n",
    "def hls_tresh(S_channel, low_limit=0, high_limit=255):\n",
    "    \"\"\"Takes saturation channel, outputs binary image\"\"\"\n",
    "    s_binary=np.zeros_like(S_channel)\n",
    "    s_binary[(S_channel>=low_limit) & (S_channel<=high_limit)]=1\n",
    "    return s_binary\n",
    "\n",
    "def tresh_channel(img, lower, upper, channel):\n",
    "    \"\"\"Returns threshold in channel\"\"\"\n",
    "    channel_of_interest = img[:,:,channel]\n",
    "    img_binary = np.zeros_like(channel_of_interest)\n",
    "    img_binary[(channel_of_interest>=upper)&(channel_of_interest<=upper)]\n",
    "    return img_binary"
   ]
  },
  {
   "cell_type": "markdown",
   "metadata": {},
   "source": [
    "### Generate GT mask"
   ]
  },
  {
   "cell_type": "code",
   "execution_count": null,
   "metadata": {},
   "outputs": [],
   "source": [
    "test_data = get_gt(json_gt,6)\n",
    "img = mpimg.imread(data_path +test_data[0])\n",
    "plt.imshow(img)\n",
    "print(len(test_data[1]))\n"
   ]
  },
  {
   "cell_type": "code",
   "execution_count": null,
   "metadata": {},
   "outputs": [],
   "source": [
    "lane_mask=draw_lanes(img, test_data[1], test_data[2])\n",
    "plt.imshow(lane_mask)"
   ]
  },
  {
   "cell_type": "code",
   "execution_count": null,
   "metadata": {},
   "outputs": [],
   "source": [
    "hls_img= cv2.cvtColor(img, cv2.COLOR_RGB2HLS)\n",
    "plt.imshow(hls_img)"
   ]
  },
  {
   "cell_type": "code",
   "execution_count": null,
   "metadata": {},
   "outputs": [],
   "source": [
    "h_channel = 255*tresh_channel(hls_img,170,255, 0)\n",
    "plt.imshow(hls_img[:,:,2])"
   ]
  },
  {
   "cell_type": "code",
   "execution_count": null,
   "metadata": {},
   "outputs": [],
   "source": []
  },
  {
   "cell_type": "code",
   "execution_count": null,
   "metadata": {},
   "outputs": [],
   "source": [
    "new_img=draw_lanes(img, test_data[1], test_data[2])\n",
    "plt.imshow(new_img)"
   ]
  },
  {
   "cell_type": "code",
   "execution_count": null,
   "metadata": {},
   "outputs": [],
   "source": [
    "img = cv2.blur(img,(5,5))\n",
    "s_channel = cv2.cvtColor(img, cv2.COLOR_RGB2HLS)[:,:,0]\n",
    "s_channel = hls_tresh(s_channel, 100,255)\n",
    "plt.imshow(s_channel)\n"
   ]
  },
  {
   "cell_type": "code",
   "execution_count": null,
   "metadata": {},
   "outputs": [],
   "source": [
    "\"\"\"\n",
    "#Open in batch and save subset\n",
    "for i in range(len(raw_files)):\n",
    "    img = mpimg.imread(raw_files[i])\n",
    "    mpimg.imsave(\"out_img/\"+str(i)+\".jpg\",img)\n",
    "\"\"\"    \n",
    "\n",
    "\"\"\"\n",
    "for i in range(len(raw_files)):\n",
    "    img = cv2.imread(raw_files[i])\n",
    "    gray = cv2.cvtColor(img, cv2.COLOR_RGB2GRAY)\n",
    "    img = roi(gray,150)\n",
    "    mpimg.imsave(\"out_img/\"+str(i)+\"_crop.jpg\",cv2.cvtColor(img, cv2.COLOR_GRAY2RGB))\n",
    "    img = gray_mask(img, 170,255)\n",
    "    mpimg.imsave(\"out_img/\"+str(i)+\"_mask.jpg\",cv2.cvtColor(img, cv2.COLOR_GRAY2RGB))\n",
    "\"\"\""
   ]
  },
  {
   "cell_type": "code",
   "execution_count": null,
   "metadata": {},
   "outputs": [],
   "source": [
    "gray = cv2.cvtColor(img, cv2.COLOR_RGB2GRAY)"
   ]
  },
  {
   "cell_type": "code",
   "execution_count": null,
   "metadata": {
    "collapsed": true
   },
   "outputs": [],
   "source": []
  }
 ],
 "metadata": {
  "kernelspec": {
   "display_name": "Python 3",
   "language": "python",
   "name": "python3"
  },
  "language_info": {
   "codemirror_mode": {
    "name": "ipython",
    "version": 3
   },
   "file_extension": ".py",
   "mimetype": "text/x-python",
   "name": "python",
   "nbconvert_exporter": "python",
   "pygments_lexer": "ipython3",
   "version": "3.6.1"
  }
 },
 "nbformat": 4,
 "nbformat_minor": 2
}
