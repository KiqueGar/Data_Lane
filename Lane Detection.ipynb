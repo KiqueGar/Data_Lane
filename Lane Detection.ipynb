{
 "cells": [
  {
   "cell_type": "code",
   "execution_count": null,
   "metadata": {
    "collapsed": true
   },
   "outputs": [],
   "source": [
    "import json\n",
    "import numpy as np\n",
    "import cv2\n",
    "import matplotlib.pyplot as plt\n",
    "import matplotlib.image as mpimg\n",
    "from evaluate.lane import LaneEval\n",
    "import random\n",
    "import os\n",
    "%matplotlib inline\n"
   ]
  },
  {
   "cell_type": "code",
   "execution_count": null,
   "metadata": {
    "collapsed": true
   },
   "outputs": [],
   "source": [
    "def show_samples(n_samples, images, randomize=False):\n",
    "    \"\"\"Shows multiple images from path list\"\"\"\n",
    "    for sample_n in range(n_samples):\n",
    "        if randomize:\n",
    "            n = random.randint(0, len(images)-1)\n",
    "        else:\n",
    "            n = sample_n\n",
    "        label = images[n][-32:-6]\n",
    "        fig = plt.figure(figsize=(30,6))\n",
    "        ax = plt.subplot(np.ceil(n_samples/3), 3, sample_n+1)\n",
    "        ax.set_title(label)\n",
    "        img = plt.imread(images[n])\n",
    "        ax.imshow(img)\n",
    "        ax.set_yticklabels([])\n",
    "        ax.set_xticklabels([])\n",
    "    plt.tight_layout()\n",
    "    plt.show()\n"
   ]
  },
  {
   "cell_type": "markdown",
   "metadata": {},
   "source": [
    "### Get Data And Create small subset for testing"
   ]
  },
  {
   "cell_type": "code",
   "execution_count": null,
   "metadata": {
    "collapsed": true
   },
   "outputs": [],
   "source": [
    "small_set = True\n",
    "### READ FILE\n",
    "data_path = \"train_set/\"\n",
    "json_gt = [json.loads(line) for line in open('train_set/label_data_0531.json')]\n",
    "if small_set:\n",
    "    subset = np.random.choice(json_gt, size=15, replace = False)\n",
    "    json_gt=subset\n",
    "\n",
    "def get_gt(json_list, index):\n",
    "    gt = json_list[index]\n",
    "    gt_lanes = gt['lanes']\n",
    "    y_samples = gt['h_samples']\n",
    "    raw_file = gt['raw_file']\n",
    "    return [raw_file, gt_lanes, y_samples]"
   ]
  },
  {
   "cell_type": "markdown",
   "metadata": {
    "collapsed": true
   },
   "source": [
    "### Examine Data"
   ]
  },
  {
   "cell_type": "code",
   "execution_count": null,
   "metadata": {
    "scrolled": false
   },
   "outputs": [],
   "source": [
    "from sys import getsizeof\n",
    "print(\"Total data: \",len(json_gt))\n",
    "example_data = get_gt(json_gt,2)\n",
    "print(\"Path example: \", example_data[0])\n",
    "print(\"Lane example: \", example_data[1])\n",
    "example_img=[]\n",
    "for i in range(3):\n",
    "    example_data=get_gt(json_gt, i)\n",
    "    example_img.append(\"train_set/\"+ example_data[0])\n",
    "show_samples(3, example_img)"
   ]
  },
  {
   "cell_type": "markdown",
   "metadata": {
    "collapsed": true,
    "scrolled": false
   },
   "source": [
    "### Preprocessing"
   ]
  },
  {
   "cell_type": "code",
   "execution_count": null,
   "metadata": {},
   "outputs": [],
   "source": [
    "### Crop, as max index for evaluation is 160, no case\n",
    "##  in looking above\n",
    "def roi(img,y):\n",
    "    \"\"\"Region of Interest\"\"\"\n",
    "    return(img[y:len(img)])\n",
    "\n",
    "def draw_lanes(img, gt_lanes, y_samples, thickness=25):\n",
    "    \"\"\"raws lines from GT data\"\"\"\n",
    "    gt_lanes_vis = [[(x, y) for (x, y) in zip(lane, y_samples) if x >= 0] for lane in gt_lanes]\n",
    "    img_vis = np.zeros_like(img)\n",
    "    for lane in gt_lanes_vis:\n",
    "        cv2.polylines(img_vis, np.int32([lane]), isClosed=False, color=(0,255,0), thickness= thickness)\n",
    "    return img_vis\n",
    "\n",
    "def poly_to_points(poly):\n",
    "    \"\"\"Takes a second degree polynomial, returns x_coeffs at y_samples\"\"\"\n",
    "    x=[]\n",
    "    y=[]\n",
    "    for y_test in range(160,720,10):\n",
    "        y.append(y_test)\n",
    "        pred = y*y*poly[0] + y*poly[1] + poly[2]\n",
    "        if pred >0 and pred <1280:\n",
    "            x.append(pred)\n",
    "        else:\n",
    "            x.append(-2)\n",
    "    return x, y\n",
    "\n",
    "def poly_to_line(img, poly):\n",
    "    \"\"\"Draws polynomial to image\"\"\"\n",
    "    line=[]\n",
    "    for y in range(160,720,10):\n",
    "        x = y*y*poly[0] + y*poly[1] + poly[2]\n",
    "        if x>0 and x<1280:\n",
    "            line.append([np.int32(x), np.int32(y)])\n",
    "    pts = np.asarray(line, np.int32)\n",
    "    pts.reshape((-1,1,2))\n",
    "    output=cv2.polylines(img, [pts], False, (255,0,0), 3)\n",
    "    return output\n",
    "\n",
    "def _get_coeffs(gt_lanes, y_samples):\n",
    "    \"\"\"Returns order 2 polynomials from ground truth points\"\"\"\n",
    "    polys=[]\n",
    "    gt_lanes_pts = [[(x, y) for (x, y) in zip(lane, y_samples) if x >= 0] for lane in gt_lanes]\n",
    "    gt_lanes_pts = [[(x, y) for (x, y) in zip(lane, y_samples) if x >= 0] for lane in gt_lanes]\n",
    "    for lane in gt_lanes_pts:\n",
    "        lane = np.asarray(lane)\n",
    "        x = lane[:,0]\n",
    "        y = lane[:,1]\n",
    "        polys.append(np.polyfit(y,x, 2))\n",
    "    return polys\n",
    "    \n",
    "\n",
    "def color_mask(img, lower=[0,210,148], upper=[255,255,255]):\n",
    "    \"\"\"Returns mask from color image\"\"\"\n",
    "    return cv2.inRange(img, lower, upper)\n",
    "\n",
    "def gray_mask(img, lower=230, upper=255):\n",
    "    \"\"\"Returns mask from gray image\"\"\"    \n",
    "    return cv2.inRange(img, lower, upper)\n",
    "\n",
    "def hls_tresh(S_channel, low_limit=0, high_limit=255):\n",
    "    \"\"\"Takes saturation channel, outputs binary image\"\"\"\n",
    "    s_binary=np.zeros_like(S_channel)\n",
    "    s_binary[(S_channel>=low_limit) & (S_channel<=high_limit)]=1\n",
    "    return s_binary\n",
    "\n",
    "def tresh_channel(img, lower, upper, channel):\n",
    "    \"\"\"Returns threshold in channel\"\"\"\n",
    "    channel_of_interest = img[:,:,channel]\n",
    "    img_binary = np.zeros_like(channel_of_interest)\n",
    "    img_binary[(channel_of_interest>=upper)&(channel_of_interest<=upper)]\n",
    "    return img_binary"
   ]
  },
  {
   "cell_type": "markdown",
   "metadata": {},
   "source": [
    "### Generate GT mask"
   ]
  },
  {
   "cell_type": "code",
   "execution_count": null,
   "metadata": {},
   "outputs": [],
   "source": [
    "test_data = get_gt(json_gt,6)\n",
    "img = mpimg.imread(data_path +test_data[0])\n",
    "mpimg.imsave(\"out_img/GT_mask/frame.jpg\",img)\n",
    "poly_lanes=_get_coeffs(test_data[1], test_data[2])\n",
    "mask=draw_lanes(img, test_data[1], test_data[2],5)\n",
    "mpimg.imsave(\"out_img/GT_mask/lanes_GT.jpg\",mask)\n",
    "for poly in poly_lanes:\n",
    "    img=poly_to_line(img, poly)\n",
    "mpimg.imsave(\"out_img/GT_mask/poly_reversed_GT.jpg\",img)\n",
    "plt.imshow(img)\n"
   ]
  },
  {
   "cell_type": "code",
   "execution_count": null,
   "metadata": {},
   "outputs": [],
   "source": []
  },
  {
   "cell_type": "code",
   "execution_count": null,
   "metadata": {},
   "outputs": [],
   "source": [
    "comparission = np.copy(lane_mask)\n",
    "\"\"\"\n",
    "poly = poly_lanes[0]\n",
    "line=[]\n",
    "for y in range(160,720,10):\n",
    "    x = y*y*poly[0] + y*poly[1] + poly[2]\n",
    "    if x>0 and x<1280:\n",
    "        line.append([np.int32(x), np.int32(y)])\n",
    "print(line)\n",
    "pts = np.asarray(line, np.int32)\n",
    "print(pts)\n",
    "pts.reshape((-1,1,2))\n",
    "print(pts)\n",
    "\n",
    "\n",
    "cv2.polylines(comparission, [pts], False, (255,0,0), 3)\n",
    "\"\"\"\n",
    "for poly in poly_lanes:\n",
    "    comparission=poly_to_line(comparission, poly)\n",
    "plt.imshow(comparission)"
   ]
  },
  {
   "cell_type": "code",
   "execution_count": null,
   "metadata": {},
   "outputs": [],
   "source": [
    "hls_img= cv2.cvtColor(img, cv2.COLOR_RGB2HLS)\n",
    "plt.imshow(hls_img)"
   ]
  },
  {
   "cell_type": "code",
   "execution_count": null,
   "metadata": {},
   "outputs": [],
   "source": [
    "h_channel = tresh_channel(hls_img,220,255, 0)\n",
    "plt.imshow(1024*h_channel)"
   ]
  },
  {
   "cell_type": "code",
   "execution_count": null,
   "metadata": {
    "collapsed": true
   },
   "outputs": [],
   "source": []
  },
  {
   "cell_type": "code",
   "execution_count": null,
   "metadata": {
    "collapsed": true
   },
   "outputs": [],
   "source": [
    "new_img=draw_lanes(img, test_data[1], test_data[2])\n",
    "plt.imshow(new_img)"
   ]
  },
  {
   "cell_type": "code",
   "execution_count": null,
   "metadata": {
    "collapsed": true
   },
   "outputs": [],
   "source": [
    "img = cv2.blur(img,(5,5))\n",
    "s_channel = cv2.cvtColor(img, cv2.COLOR_RGB2HLS)[:,:,0]\n",
    "s_channel = hls_tresh(s_channel, 100,255)\n",
    "plt.imshow(s_channel)\n"
   ]
  },
  {
   "cell_type": "code",
   "execution_count": null,
   "metadata": {
    "collapsed": true
   },
   "outputs": [],
   "source": [
    "\"\"\"\n",
    "#Open in batch and save subset\n",
    "for i in range(len(raw_files)):\n",
    "    img = mpimg.imread(raw_files[i])\n",
    "    mpimg.imsave(\"out_img/\"+str(i)+\".jpg\",img)\n",
    "\"\"\"    \n",
    "\n",
    "\"\"\"\n",
    "for i in range(len(raw_files)):\n",
    "    img = cv2.imread(raw_files[i])\n",
    "    gray = cv2.cvtColor(img, cv2.COLOR_RGB2GRAY)\n",
    "    img = roi(gray,150)\n",
    "    mpimg.imsave(\"out_img/\"+str(i)+\"_crop.jpg\",cv2.cvtColor(img, cv2.COLOR_GRAY2RGB))\n",
    "    img = gray_mask(img, 170,255)\n",
    "    mpimg.imsave(\"out_img/\"+str(i)+\"_mask.jpg\",cv2.cvtColor(img, cv2.COLOR_GRAY2RGB))\n",
    "\"\"\""
   ]
  },
  {
   "cell_type": "code",
   "execution_count": null,
   "metadata": {
    "collapsed": true
   },
   "outputs": [],
   "source": [
    "gray = cv2.cvtColor(img, cv2.COLOR_RGB2GRAY)"
   ]
  },
  {
   "cell_type": "code",
   "execution_count": null,
   "metadata": {
    "collapsed": true
   },
   "outputs": [],
   "source": []
  }
 ],
 "metadata": {
  "kernelspec": {
   "display_name": "Python 3",
   "language": "python",
   "name": "python3"
  },
  "language_info": {
   "codemirror_mode": {
    "name": "ipython",
    "version": 3
   },
   "file_extension": ".py",
   "mimetype": "text/x-python",
   "name": "python",
   "nbconvert_exporter": "python",
   "pygments_lexer": "ipython3",
   "version": "3.6.1"
  }
 },
 "nbformat": 4,
 "nbformat_minor": 2
}
