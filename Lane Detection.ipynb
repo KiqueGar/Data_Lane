{
 "cells": [
  {
   "cell_type": "code",
   "execution_count": null,
   "metadata": {
    "collapsed": true
   },
   "outputs": [],
   "source": [
    "import json\n",
    "import numpy as np\n",
    "import cv2\n",
    "import matplotlib.pyplot as plt\n",
    "import matplotlib.image as mpimg\n",
    "from evaluate.lane import LaneEval\n",
    "import random\n",
    "import os\n",
    "%matplotlib inline\n"
   ]
  },
  {
   "cell_type": "code",
   "execution_count": null,
   "metadata": {
    "collapsed": true
   },
   "outputs": [],
   "source": [
    "def show_samples(n_samples, images, randomize=False):\n",
    "    \"\"\"Shows multiple images from path list\"\"\"\n",
    "    for sample_n in range(n_samples):\n",
    "        if randomize:\n",
    "            n = random.randint(0, len(images)-1)\n",
    "        else:\n",
    "            n = sample_n\n",
    "        path = os.path.dirname(images[n])\n",
    "        label = os.path.basename(path)\n",
    "        #label = images[n][-32:-6]\n",
    "        fig = plt.figure(figsize=(30,6))\n",
    "        ax = plt.subplot(np.ceil(n_samples/3), 3, sample_n+1)\n",
    "        ax.set_title(label)\n",
    "        img = plt.imread(images[n])\n",
    "        ax.imshow(img)\n",
    "        ax.set_yticklabels([])\n",
    "        ax.set_xticklabels([])\n",
    "    plt.tight_layout()\n",
    "    plt.show()\n"
   ]
  },
  {
   "cell_type": "markdown",
   "metadata": {},
   "source": [
    "### Get Data And Create small subset for testing"
   ]
  },
  {
   "cell_type": "code",
   "execution_count": null,
   "metadata": {},
   "outputs": [],
   "source": [
    "small_set = False\n",
    "### READ FILE\n",
    "data_path = \"train_set/\"\n",
    "json_gt = [json.loads(line) for line in open('train_set/label_data_0531.json')]\n",
    "if small_set:\n",
    "    subset = np.random.choice(json_gt, size=100, replace = False)\n",
    "    json_gt=subset\n",
    "\n",
    "def _get_gt(json_list, index):\n",
    "    \"\"\"Reads data from json\"\"\"\n",
    "    gt = json_list[index]\n",
    "    gt_lanes = gt['lanes']\n",
    "    y_samples = gt['h_samples']\n",
    "    raw_file = gt['raw_file']\n",
    "    return [raw_file, gt_lanes, y_samples]"
   ]
  },
  {
   "cell_type": "markdown",
   "metadata": {
    "collapsed": true
   },
   "source": [
    "### Examine Data"
   ]
  },
  {
   "cell_type": "code",
   "execution_count": null,
   "metadata": {
    "scrolled": false
   },
   "outputs": [],
   "source": [
    "from sys import getsizeof\n",
    "print(\"Total data: \",len(json_gt))\n",
    "example_data = _get_gt(json_gt,2)\n",
    "print(\"Path example: \", example_data[0])\n",
    "print(\"Lane example: \", example_data[1])\n",
    "example_img=[]\n",
    "for i in range(3):\n",
    "    example_data=_get_gt(json_gt, i)\n",
    "    example_img.append(\"train_set/\"+ example_data[0])\n",
    "show_samples(3, example_img)"
   ]
  },
  {
   "cell_type": "markdown",
   "metadata": {
    "collapsed": true,
    "scrolled": false
   },
   "source": [
    "### Preprocessing"
   ]
  },
  {
   "cell_type": "code",
   "execution_count": null,
   "metadata": {},
   "outputs": [],
   "source": [
    "### Crop, as max index for evaluation is 160, no case\n",
    "##  in looking above\n",
    "def roi(img,y):\n",
    "    \"\"\"Region of Interest\"\"\"\n",
    "    return(img[y:len(img)])\n",
    "\n",
    "def draw_lanes(img, gt_lanes, y_samples, thickness=25):\n",
    "    \"\"\"raws lines from GT data\"\"\"\n",
    "    gt_lanes_vis = [[(x, y) for (x, y) in zip(lane, y_samples) if x >= 0] for lane in gt_lanes]\n",
    "    img_vis = np.zeros_like(img)\n",
    "    if len(gt_lanes_vis)>4:\n",
    "        gt_lanes_vis = gt_lanes_vis[0:4]\n",
    "    for lane in gt_lanes_vis:\n",
    "        lower =[]\n",
    "        midd =[]\n",
    "        upper=[]\n",
    "        for x,y in lane:\n",
    "            if y < 150+190:\n",
    "                upper.append([x,y])\n",
    "            if y >130+190 and y < 150+2*190:\n",
    "                midd.append([x,y])\n",
    "            if y > 130 +190*2:\n",
    "                lower.append([x,y])\n",
    "        cv2.polylines(img_vis, np.int32([upper]), isClosed=False, color=(0,255,0), thickness= thickness)\n",
    "        cv2.polylines(img_vis, np.int32([midd]), isClosed=False, color=(0,255,0), thickness= thickness+10)\n",
    "        cv2.polylines(img_vis, np.int32([lower]), isClosed=False, color=(0,255,0), thickness= thickness+20)\n",
    "        \n",
    "    return img_vis\n",
    "\n",
    "def poly_to_points(poly):\n",
    "    \"\"\"Takes a second degree polynomial, returns x_coeffs at y_samples\"\"\"\n",
    "    x=[]\n",
    "    y=[]\n",
    "    for y_test in range(160,720,10):\n",
    "        y.append(y_test)\n",
    "        pred = y*y*poly[0] + y*poly[1] + poly[2]\n",
    "        if pred >0 and pred <1280:\n",
    "            x.append(pred)\n",
    "        else:\n",
    "            x.append(-2)\n",
    "    return x, y\n",
    "\n",
    "def poly_to_line(img, poly):\n",
    "    \"\"\"Draws polynomial to image\"\"\"\n",
    "    line=[]\n",
    "    for y in range(180,730,10):\n",
    "        x = y*y*poly[0] + y*poly[1] + poly[2]\n",
    "        if x>0 and x<1280:\n",
    "            line.append([np.int32(x), np.int32(y)])\n",
    "    pts = np.asarray(line, np.int32)\n",
    "    pts.reshape((-1,1,2))\n",
    "    output=cv2.polylines(img, [pts], False, (255,0,0), 3)\n",
    "    return output\n",
    "\n",
    "def _filter_4lines(poly):\n",
    "    \"\"\"Takes polynomial coefficients, if not 4, return only 4\n",
    "    \"\"\"\n",
    "    size=len(poly)\n",
    "    if size <4:\n",
    "        for i in range(4-size):\n",
    "            poly.append(np.asarray([0,0,0]))\n",
    "    return poly\n",
    "\n",
    "def _get_coeffs(gt_lanes, y_samples):\n",
    "    \"\"\"Returns order 2 polynomials from ground truth points\"\"\"\n",
    "    polys=[]\n",
    "    gt_lanes_pts = [[(x, y) for (x, y) in zip(lane, y_samples) if x >= 0] for lane in gt_lanes]\n",
    "    for lane in gt_lanes_pts:\n",
    "        lane = np.asarray(lane)\n",
    "        x = lane[:,0]\n",
    "        y = lane[:,1]\n",
    "        polys.append(np.polyfit(y,x, 2))\n",
    "    polys = _filter_4lines(polys)\n",
    "    return polys\n",
    "    \n",
    "def _toBinaryThresh(S_channel, low_limit=0, high_limit=255):\n",
    "    \"\"\"Takes saturation channel, outputs binary image\"\"\"\n",
    "    s_binary=np.zeros_like(S_channel)\n",
    "    s_binary[(S_channel>=low_limit) & (S_channel<=high_limit)]=1\n",
    "    return s_binary\n",
    "\n",
    "def generate_GT(data, input_path=\"train_set/\", debbug=False, output_dir=\"out_img/generate_GT/\", save_big_mask= False):\n",
    "    \"\"\"Takes data read from GT json, ouputs polynomials, GT_mask and image\"\"\"\n",
    "    path = os.path.dirname(data[0])\n",
    "    name = os.path.basename(path)\n",
    "    img = mpimg.imread(input_path +data[0])\n",
    "    poly_lanes=_get_coeffs(data[1], data[2])\n",
    "    \n",
    "    mask=draw_lanes(img, test_data[1], test_data[2],5)\n",
    "    binary_mask=_toBinaryThresh(mask[:,:,1], 200,255)\n",
    "    \n",
    "    hsv_img= cv2.cvtColor(img, cv2.COLOR_RGB2HSV)\n",
    "    v_channel = hsv_img[:,:,2]\n",
    "    v_channel = _toBinaryThresh(v_channel, 170,255)\n",
    "    \n",
    "    h_channel = hsv_img[:,:,0]\n",
    "    h_channel = _toBinaryThresh(h_channel, 15,25)\n",
    "    \n",
    "    gt_patch = cv2.bitwise_or(h_channel, v_channel)\n",
    "    gt_patch=cv2.bitwise_and(gt_patch, binary_mask)\n",
    "    \n",
    "    kernel= np.ones((3,3))\n",
    "    gt_patch = cv2.morphologyEx(gt_patch,cv2.MORPH_CLOSE, kernel)\n",
    "    kernel= np.ones((5,7))\n",
    "    #gt_patch = cv2.dilate(gt_patch, kernel, iterations=1) \n",
    "    \n",
    "    overlay=np.zeros_like(img)\n",
    "    overlay[:,:,1] = 255*gt_patch\n",
    "    \n",
    "    if save_big_mask:\n",
    "        #mpimg.imsave(GT_binary+\"Overlay.jpg\",overlay)\n",
    "        print(\"save_big_mask not implemented!\")\n",
    "    \n",
    "    if debbug:\n",
    "        mpimg.imsave(\"out_img/\" + name + \".jpg\",img)\n",
    "        mpimg.imsave(\"out_img/\"+ name +\"GT_lanes_.jpg\",mask)\n",
    "        regression = np.copy(img)\n",
    "        for poly in poly_lanes:\n",
    "            regression=poly_to_line(regression, poly)\n",
    "        mpimg.imsave(output_dir + name +\"poly_reversed_GT.jpg\",regression)\n",
    "        mpimg.imsave(output_dir+name+\"_v_chan.jpg\",v_channel)\n",
    "        mpimg.imsave(output_dir+name+\"_h_chan.jpg\",h_channel)\n",
    "        mpimg.imsave(output_dir+name+\"patch.jpg\",gt_patch)\n",
    "        mpimg.imsave(output_dir+name+\"Overlay.jpg\",overlay)\n",
    "        result = cv2.addWeighted(overlay,.4,img,.6,0)\n",
    "        mpimg.imsave(output_dir+name+\"Result.jpg\",result)\n",
    "        \n",
    "    img = cv2.resize(img, None,fx=0.25, fy=0.25)\n",
    "    overlay = cv2.resize(overlay, None,fx=0.25, fy=0.25)\n",
    "    \n",
    "    return name, poly_lanes, overlay, img\n",
    "    \n"
   ]
  },
  {
   "cell_type": "markdown",
   "metadata": {},
   "source": [
    "### Generate GT mask"
   ]
  },
  {
   "cell_type": "code",
   "execution_count": null,
   "metadata": {
    "scrolled": true
   },
   "outputs": [],
   "source": [
    "#for i in range(len(json_gt)):\n",
    "for i in range(4):\n",
    "    test_data = _get_gt(json_gt,i)\n",
    "    name, poly, mask, img = generate_GT(test_data)\n",
    "    mpimg.imsave(\"out_img/\" + name + \"_mask.jpg\",mask)\n",
    "    mpimg.imsave(\"out_img/\" + name + \"_img.jpg\",img)\n",
    "\n",
    "    \n",
    "    \n",
    "plt.imshow(cv2.addWeighted(mask, 0.5, img, 0.5, 0))\n"
   ]
  },
  {
   "cell_type": "code",
   "execution_count": null,
   "metadata": {},
   "outputs": [],
   "source": []
  },
  {
   "cell_type": "code",
   "execution_count": null,
   "metadata": {
    "collapsed": true
   },
   "outputs": [],
   "source": []
  }
 ],
 "metadata": {
  "kernelspec": {
   "display_name": "Python 3",
   "language": "python",
   "name": "python3"
  },
  "language_info": {
   "codemirror_mode": {
    "name": "ipython",
    "version": 3
   },
   "file_extension": ".py",
   "mimetype": "text/x-python",
   "name": "python",
   "nbconvert_exporter": "python",
   "pygments_lexer": "ipython3",
   "version": "3.6.1"
  }
 },
 "nbformat": 4,
 "nbformat_minor": 2
}
