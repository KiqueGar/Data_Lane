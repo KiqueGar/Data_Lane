{
 "cells": [
  {
   "cell_type": "code",
   "execution_count": 1,
   "metadata": {
    "collapsed": false,
    "deletable": true,
    "editable": true
   },
   "outputs": [
    {
     "name": "stderr",
     "output_type": "stream",
     "text": [
      "Using TensorFlow backend.\n"
     ]
    }
   ],
   "source": [
    "import numpy as np\n",
    "import pickle\n",
    "from sklearn.utils import shuffle\n",
    "from sklearn.model_selection import train_test_split\n",
    "\n",
    "# Import necessary items from Keras\n",
    "from keras.models import Sequential\n",
    "from keras.layers import Activation, Dropout, UpSampling2D\n",
    "from keras.layers import Deconvolution2D, Convolution2D, MaxPooling2D\n",
    "from keras.layers.normalization import BatchNormalization\n",
    "from keras.preprocessing.image import ImageDataGenerator"
   ]
  },
  {
   "cell_type": "markdown",
   "metadata": {
    "deletable": true,
    "editable": true
   },
   "source": [
    "# Load data"
   ]
  },
  {
   "cell_type": "code",
   "execution_count": 2,
   "metadata": {
    "collapsed": false,
    "deletable": true,
    "editable": true
   },
   "outputs": [
    {
     "name": "stdout",
     "output_type": "stream",
     "text": [
      "Training data Loaded\n"
     ]
    }
   ],
   "source": [
    "# Load training images\n",
    "pickle_data = pickle.load(open(\"Raw_images.p\", \"rb\" ))\n",
    "train_images = pickle_data[\"Raw\"]\n",
    "\n",
    "# Load image labels\n",
    "pickle_data = pickle.load(open(\"GT_images.p\", \"rb\" ))\n",
    "labels = pickle_data[\"GroundTruth\"]\n",
    "print(\"Training data Loaded\")\n",
    "\n",
    "# Make into arrays as the neural network wants these\n",
    "train_images = np.array(train_images)\n",
    "labels = np.array(labels)"
   ]
  },
  {
   "cell_type": "markdown",
   "metadata": {
    "deletable": true,
    "editable": true
   },
   "source": [
    "# Data conditioning"
   ]
  },
  {
   "cell_type": "code",
   "execution_count": 3,
   "metadata": {
    "collapsed": false,
    "deletable": true,
    "editable": true
   },
   "outputs": [
    {
     "name": "stdout",
     "output_type": "stream",
     "text": [
      "Training on:  3263  samples\n",
      "Training on:  363  samples\n"
     ]
    }
   ],
   "source": [
    "# Normalize labels - training images get normalized to start in the network\n",
    "labels = labels / 255\n",
    "\n",
    "# Shuffle images along with their labels, then split into training/validation sets\n",
    "train_images, labels = shuffle(train_images, labels)\n",
    "# Test size may be 10% or 20%\n",
    "X_train, X_val, y_train, y_val = train_test_split(train_images, labels, test_size=0.1)\n",
    "print(\"Training on: \", len(X_train), \" samples\")\n",
    "print(\"Training on: \", len(X_val), \" samples\")"
   ]
  },
  {
   "cell_type": "markdown",
   "metadata": {
    "deletable": true,
    "editable": true
   },
   "source": [
    "# Model parameters"
   ]
  },
  {
   "cell_type": "code",
   "execution_count": 4,
   "metadata": {
    "collapsed": true,
    "deletable": true,
    "editable": true
   },
   "outputs": [],
   "source": [
    "batch_size = 150\n",
    "epochs = 20\n",
    "pool_size = (2, 2)\n",
    "input_shape = X_train.shape[1:]"
   ]
  },
  {
   "cell_type": "markdown",
   "metadata": {
    "deletable": true,
    "editable": true
   },
   "source": [
    "# Network"
   ]
  },
  {
   "cell_type": "code",
   "execution_count": 5,
   "metadata": {
    "collapsed": false,
    "deletable": true,
    "editable": true
   },
   "outputs": [
    {
     "name": "stdout",
     "output_type": "stream",
     "text": [
      "____________________________________________________________________________________________________\n",
      "Layer (type)                     Output Shape          Param #     Connected to                     \n",
      "====================================================================================================\n",
      "batchnormalization_1 (BatchNorma (None, 140, 320, 3)   12          batchnormalization_input_1[0][0] \n",
      "____________________________________________________________________________________________________\n",
      "Conv1 (Convolution2D)            (None, 138, 318, 60)  1680        batchnormalization_1[0][0]       \n",
      "____________________________________________________________________________________________________\n",
      "Conv2 (Convolution2D)            (None, 136, 316, 50)  27050       Conv1[0][0]                      \n",
      "____________________________________________________________________________________________________\n",
      "maxpooling2d_1 (MaxPooling2D)    (None, 68, 158, 50)   0           Conv2[0][0]                      \n",
      "____________________________________________________________________________________________________\n",
      "Conv3 (Convolution2D)            (None, 66, 156, 40)   18040       maxpooling2d_1[0][0]             \n",
      "____________________________________________________________________________________________________\n",
      "dropout_1 (Dropout)              (None, 66, 156, 40)   0           Conv3[0][0]                      \n",
      "____________________________________________________________________________________________________\n",
      "Conv4 (Convolution2D)            (None, 64, 154, 30)   10830       dropout_1[0][0]                  \n",
      "____________________________________________________________________________________________________\n",
      "dropout_2 (Dropout)              (None, 64, 154, 30)   0           Conv4[0][0]                      \n",
      "____________________________________________________________________________________________________\n",
      "Conv5 (Convolution2D)            (None, 62, 152, 20)   5420        dropout_2[0][0]                  \n",
      "____________________________________________________________________________________________________\n",
      "dropout_3 (Dropout)              (None, 62, 152, 20)   0           Conv5[0][0]                      \n",
      "____________________________________________________________________________________________________\n",
      "maxpooling2d_2 (MaxPooling2D)    (None, 31, 76, 20)    0           dropout_3[0][0]                  \n",
      "____________________________________________________________________________________________________\n",
      "Conv6 (Convolution2D)            (None, 29, 74, 10)    1810        maxpooling2d_2[0][0]             \n",
      "____________________________________________________________________________________________________\n",
      "dropout_4 (Dropout)              (None, 29, 74, 10)    0           Conv6[0][0]                      \n",
      "____________________________________________________________________________________________________\n",
      "Conv7 (Convolution2D)            (None, 27, 72, 5)     455         dropout_4[0][0]                  \n",
      "____________________________________________________________________________________________________\n",
      "dropout_5 (Dropout)              (None, 27, 72, 5)     0           Conv7[0][0]                      \n",
      "____________________________________________________________________________________________________\n",
      "maxpooling2d_3 (MaxPooling2D)    (None, 13, 36, 5)     0           dropout_5[0][0]                  \n",
      "____________________________________________________________________________________________________\n",
      "upsampling2d_1 (UpSampling2D)    (None, 26, 72, 5)     0           maxpooling2d_3[0][0]             \n",
      "____________________________________________________________________________________________________\n",
      "Deconv1 (Deconvolution2D)        (None, 62, 152, 10)   460         upsampling2d_1[0][0]             \n",
      "____________________________________________________________________________________________________\n",
      "dropout_6 (Dropout)              (None, 62, 152, 10)   0           Deconv1[0][0]                    \n",
      "____________________________________________________________________________________________________\n",
      "Deconv2 (Deconvolution2D)        (None, 64, 154, 20)   1820        dropout_6[0][0]                  \n",
      "____________________________________________________________________________________________________\n",
      "dropout_7 (Dropout)              (None, 64, 154, 20)   0           Deconv2[0][0]                    \n",
      "____________________________________________________________________________________________________\n",
      "upsampling2d_2 (UpSampling2D)    (None, 128, 308, 20)  0           dropout_7[0][0]                  \n",
      "____________________________________________________________________________________________________\n",
      "Deconv3 (Deconvolution2D)        (None, 66, 156, 30)   5430        upsampling2d_2[0][0]             \n",
      "____________________________________________________________________________________________________\n",
      "dropout_8 (Dropout)              (None, 66, 156, 30)   0           Deconv3[0][0]                    \n",
      "____________________________________________________________________________________________________\n",
      "Deconv4 (Deconvolution2D)        (None, 66, 156, 40)   10840       dropout_8[0][0]                  \n",
      "____________________________________________________________________________________________________\n",
      "dropout_9 (Dropout)              (None, 66, 156, 40)   0           Deconv4[0][0]                    \n",
      "____________________________________________________________________________________________________\n",
      "Deconv5 (Deconvolution2D)        (None, 68, 158, 50)   18050       dropout_9[0][0]                  \n",
      "____________________________________________________________________________________________________\n",
      "dropout_10 (Dropout)             (None, 68, 158, 50)   0           Deconv5[0][0]                    \n",
      "____________________________________________________________________________________________________\n",
      "upsampling2d_3 (UpSampling2D)    (None, 136, 316, 50)  0           dropout_10[0][0]                 \n",
      "____________________________________________________________________________________________________\n",
      "Deconv6 (Deconvolution2D)        (None, 138, 318, 60)  27060       upsampling2d_3[0][0]             \n",
      "____________________________________________________________________________________________________\n",
      "Final (Deconvolution2D)          (None, 140, 320, 1)   541         Deconv6[0][0]                    \n",
      "====================================================================================================\n",
      "Total params: 129,498\n",
      "Trainable params: 129,492\n",
      "Non-trainable params: 6\n",
      "____________________________________________________________________________________________________\n"
     ]
    }
   ],
   "source": [
    "model = Sequential()\n",
    "# Normalizes incoming inputs. First layer needs the input shape to work\n",
    "model.add(BatchNormalization(input_shape=input_shape))\n",
    "\n",
    "# Below layers were re-named for easier reading of model summary; this not necessary\n",
    "# Conv Layer 1\n",
    "model.add(Convolution2D(60, 3, 3, border_mode='valid', subsample=(1,1), activation = 'relu', name = 'Conv1'))\n",
    "\n",
    "# Conv Layer 2\n",
    "model.add(Convolution2D(50, 3, 3, border_mode='valid', subsample=(1,1), activation = 'relu', name = 'Conv2'))\n",
    "\n",
    "# Pooling 1\n",
    "model.add(MaxPooling2D(pool_size=pool_size))\n",
    "\n",
    "# Conv Layer 3\n",
    "model.add(Convolution2D(40, 3, 3, border_mode='valid', subsample=(1,1), activation = 'relu', name = 'Conv3'))\n",
    "model.add(Dropout(0.2))\n",
    "\n",
    "# Conv Layer 4\n",
    "model.add(Convolution2D(30, 3, 3, border_mode='valid', subsample=(1,1), activation = 'relu', name = 'Conv4'))\n",
    "model.add(Dropout(0.2))\n",
    "\n",
    "# Conv Layer 5\n",
    "model.add(Convolution2D(20, 3, 3, border_mode='valid', subsample=(1,1), activation = 'relu', name = 'Conv5'))\n",
    "model.add(Dropout(0.2))\n",
    "\n",
    "# Pooling 2\n",
    "model.add(MaxPooling2D(pool_size=pool_size))\n",
    "\n",
    "# Conv Layer 6\n",
    "model.add(Convolution2D(10, 3, 3, border_mode='valid', subsample=(1,1), activation = 'relu', name = 'Conv6'))\n",
    "model.add(Dropout(0.2))\n",
    "\n",
    "# Conv Layer 7\n",
    "model.add(Convolution2D(5, 3, 3, border_mode='valid', subsample=(1,1), activation = 'relu', name = 'Conv7'))\n",
    "model.add(Dropout(0.2))\n",
    "\n",
    "# Pooling 3\n",
    "model.add(MaxPooling2D(pool_size=pool_size))\n",
    "\n",
    "# Upsample 1\n",
    "model.add(UpSampling2D(size=pool_size))\n",
    "\n",
    "# Deconv 1\n",
    "model.add(Deconvolution2D(10, 3, 3, border_mode='valid', subsample=(1,1), activation = 'relu', \n",
    "                          output_shape = model.layers[8].output_shape, name = 'Deconv1'))\n",
    "model.add(Dropout(0.2))\n",
    "\n",
    "# Deconv 2\n",
    "model.add(Deconvolution2D(20, 3, 3, border_mode='valid', subsample=(1,1), activation = 'relu', \n",
    "                          output_shape = model.layers[7].output_shape, name = 'Deconv2'))\n",
    "model.add(Dropout(0.2))\n",
    "\n",
    "# Upsample 2\n",
    "model.add(UpSampling2D(size=pool_size))\n",
    "\n",
    "# Deconv 3\n",
    "model.add(Deconvolution2D(30, 3, 3, border_mode='valid', subsample=(1,1), activation = 'relu', \n",
    "                          output_shape = model.layers[5].output_shape, name = 'Deconv3'))\n",
    "model.add(Dropout(0.2))\n",
    "\n",
    "# Deconv 4\n",
    "model.add(Deconvolution2D(40, 3, 3, border_mode='valid', subsample=(1,1), activation = 'relu', \n",
    "                          output_shape = model.layers[4].output_shape, name = 'Deconv4'))\n",
    "model.add(Dropout(0.2))\n",
    "\n",
    "# Deconv 5\n",
    "model.add(Deconvolution2D(50, 3, 3, border_mode='valid', subsample=(1,1), activation = 'relu', \n",
    "                          output_shape = model.layers[3].output_shape, name = 'Deconv5'))\n",
    "model.add(Dropout(0.2))\n",
    "\n",
    "# Upsample 3\n",
    "model.add(UpSampling2D(size=pool_size))\n",
    "\n",
    "# Deconv 6\n",
    "model.add(Deconvolution2D(60, 3, 3, border_mode='valid', subsample=(1,1), activation = 'relu', \n",
    "                          output_shape = model.layers[1].output_shape, name = 'Deconv6'))\n",
    "\n",
    "# Final layer - only including one channel so 1 filter\n",
    "model.add(Deconvolution2D(1, 3, 3, border_mode='valid', subsample=(1,1), activation = 'relu', \n",
    "                          output_shape = model.layers[0].output_shape, name = 'Final'))\n",
    "\n",
    "model.summary()"
   ]
  },
  {
   "cell_type": "markdown",
   "metadata": {
    "collapsed": true,
    "deletable": true,
    "editable": true
   },
   "source": [
    "# Data feeding"
   ]
  },
  {
   "cell_type": "code",
   "execution_count": 6,
   "metadata": {
    "collapsed": true
   },
   "outputs": [],
   "source": [
    "datagen = ImageDataGenerator()\n",
    "datagen.fit(X_train)"
   ]
  },
  {
   "cell_type": "code",
   "execution_count": null,
   "metadata": {
    "collapsed": true
   },
   "outputs": [],
   "source": [
    "model.compile(optimizer='Adam', loss='mean_squared_error')\n",
    "model.fit_generator(datagen.flow(X_train, y_train, batch_size=batch_size), samples_per_epoch = len(X_train),\n",
    "                    nb_epoch=epochs, verbose=1, validation_data=(X_val, y_val))\n",
    "\n",
    "# Save model architecture and weights\n",
    "model_json = model.to_json()\n",
    "with open(\"full_CNN_model.json\", \"w\") as json_file:\n",
    "    json_file.write(model_json)\n",
    "\n",
    "model.save_weights('full_CNN_model.h5')\n"
   ]
  }
 ],
 "metadata": {
  "kernelspec": {
   "display_name": "Python 3",
   "language": "python",
   "name": "python3"
  },
  "language_info": {
   "codemirror_mode": {
    "name": "ipython",
    "version": 3
   },
   "file_extension": ".py",
   "mimetype": "text/x-python",
   "name": "python",
   "nbconvert_exporter": "python",
   "pygments_lexer": "ipython3",
   "version": "3.5.2"
  },
  "widgets": {
   "state": {},
   "version": "1.1.2"
  }
 },
 "nbformat": 4,
 "nbformat_minor": 2
}
