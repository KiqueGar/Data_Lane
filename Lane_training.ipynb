{
 "cells": [
  {
   "cell_type": "code",
   "execution_count": 1,
   "metadata": {},
   "outputs": [
    {
     "name": "stderr",
     "output_type": "stream",
     "text": [
      "Using TensorFlow backend.\n"
     ]
    }
   ],
   "source": [
    "import os\n",
    "import numpy as np\n",
    "import pickle\n",
    "from sklearn.utils import shuffle\n",
    "from sklearn.model_selection import train_test_split\n",
    "\n",
    "# Import necessary items from Keras\n",
    "from keras.models import Sequential\n",
    "from keras.layers import Activation, Dropout, UpSampling2D\n",
    "from keras.layers import Deconvolution2D, Convolution2D, MaxPooling2D\n",
    "from keras.layers.normalization import BatchNormalization\n",
    "from keras.preprocessing.image import ImageDataGenerator\n",
    "\n"
   ]
  },
  {
   "cell_type": "markdown",
   "metadata": {},
   "source": [
    "# Load data"
   ]
  },
  {
   "cell_type": "code",
   "execution_count": 2,
   "metadata": {},
   "outputs": [
    {
     "name": "stdout",
     "output_type": "stream",
     "text": [
      "Training data Loaded\n"
     ]
    }
   ],
   "source": [
    "# Load training images\n",
    "pickle_data = pickle.load(open(\"Raw_images.p\", \"rb\" ))\n",
    "train_images = pickle_data[\"Raw\"]\n",
    "\n",
    "# Load image labels\n",
    "pickle_data = pickle.load(open(\"GT_images.p\", \"rb\" ))\n",
    "labels = pickle_data[\"GroundTruth\"]\n",
    "for i in range(len(labels)):\n",
    "    labels[i]=np.float32(labels[i])[:,:,:3]\n",
    "    unichannel= labels[i][:,:,1]\n",
    "    labels[i] = unichannel\n",
    "    \n",
    "    train_images[i]=np.float32(train_images[i])[:,:,:3]\n",
    "    \n",
    "print(\"Training data Loaded\")\n",
    "\n",
    "# Make into arrays as the neural network wants these\n",
    "train_images = np.float32(train_images)\n",
    "labels = np.float32(labels).reshape((-1,80,160,1))"
   ]
  },
  {
   "cell_type": "code",
   "execution_count": 3,
   "metadata": {},
   "outputs": [
    {
     "name": "stdout",
     "output_type": "stream",
     "text": [
      "(3626, 80, 160, 3)\n",
      "(3626, 80, 160, 1)\n"
     ]
    }
   ],
   "source": [
    "#print(sum(labels[0]))\n",
    "print(train_images.shape)\n",
    "print(labels.shape)"
   ]
  },
  {
   "cell_type": "markdown",
   "metadata": {},
   "source": [
    "# Data conditioning"
   ]
  },
  {
   "cell_type": "code",
   "execution_count": 4,
   "metadata": {},
   "outputs": [
    {
     "name": "stdout",
     "output_type": "stream",
     "text": [
      "Training on:  3082  samples\n",
      "Training on:  544  samples\n"
     ]
    }
   ],
   "source": [
    "# Normalize labels - training images get normalized to start in the network\n",
    "labels = labels / 255\n",
    "\n",
    "# Shuffle images along with their labels, then split into training/validation sets\n",
    "train_images, labels = shuffle(train_images, labels)\n",
    "# Test size may be 10% or 20%\n",
    "X_train, X_val, y_train, y_val = train_test_split(train_images, labels, test_size=0.15)\n",
    "print(\"Training on: \", len(X_train), \" samples\")\n",
    "print(\"Training on: \", len(X_val), \" samples\")\n",
    "train_images=[]\n",
    "labels=[]"
   ]
  },
  {
   "cell_type": "markdown",
   "metadata": {},
   "source": [
    "# Model parameters"
   ]
  },
  {
   "cell_type": "code",
   "execution_count": 14,
   "metadata": {
    "collapsed": true
   },
   "outputs": [],
   "source": [
    "batch_size = 100\n",
    "epochs = 15\n",
    "pool_size = (2, 2)\n",
    "input_shape = X_train.shape[1:]"
   ]
  },
  {
   "cell_type": "markdown",
   "metadata": {},
   "source": [
    "# Network"
   ]
  },
  {
   "cell_type": "code",
   "execution_count": 6,
   "metadata": {
    "scrolled": false
   },
   "outputs": [
    {
     "name": "stderr",
     "output_type": "stream",
     "text": [
      "C:\\Users\\Doctor\\.conda\\envs\\vision-new\\lib\\site-packages\\ipykernel_launcher.py:7: UserWarning: Update your `Conv2D` call to the Keras 2 API: `Conv2D(60, (3, 3), activation=\"relu\", name=\"Conv1\", strides=(1, 1), padding=\"valid\")`\n",
      "  import sys\n",
      "C:\\Users\\Doctor\\.conda\\envs\\vision-new\\lib\\site-packages\\ipykernel_launcher.py:10: UserWarning: Update your `Conv2D` call to the Keras 2 API: `Conv2D(50, (3, 3), activation=\"relu\", name=\"Conv2\", strides=(1, 1), padding=\"valid\")`\n",
      "  # Remove the CWD from sys.path while we load stuff.\n",
      "C:\\Users\\Doctor\\.conda\\envs\\vision-new\\lib\\site-packages\\ipykernel_launcher.py:16: UserWarning: Update your `Conv2D` call to the Keras 2 API: `Conv2D(40, (3, 3), activation=\"relu\", name=\"Conv3\", strides=(1, 1), padding=\"valid\")`\n",
      "  app.launch_new_instance()\n",
      "C:\\Users\\Doctor\\.conda\\envs\\vision-new\\lib\\site-packages\\ipykernel_launcher.py:20: UserWarning: Update your `Conv2D` call to the Keras 2 API: `Conv2D(30, (3, 3), activation=\"relu\", name=\"Conv4\", strides=(1, 1), padding=\"valid\")`\n",
      "C:\\Users\\Doctor\\.conda\\envs\\vision-new\\lib\\site-packages\\ipykernel_launcher.py:24: UserWarning: Update your `Conv2D` call to the Keras 2 API: `Conv2D(20, (3, 3), activation=\"relu\", name=\"Conv5\", strides=(1, 1), padding=\"valid\")`\n",
      "C:\\Users\\Doctor\\.conda\\envs\\vision-new\\lib\\site-packages\\ipykernel_launcher.py:31: UserWarning: Update your `Conv2D` call to the Keras 2 API: `Conv2D(10, (3, 3), activation=\"relu\", name=\"Conv6\", strides=(1, 1), padding=\"valid\")`\n",
      "C:\\Users\\Doctor\\.conda\\envs\\vision-new\\lib\\site-packages\\ipykernel_launcher.py:35: UserWarning: Update your `Conv2D` call to the Keras 2 API: `Conv2D(5, (3, 3), activation=\"relu\", name=\"Conv7\", strides=(1, 1), padding=\"valid\")`\n",
      "C:\\Users\\Doctor\\.conda\\envs\\vision-new\\lib\\site-packages\\ipykernel_launcher.py:46: UserWarning: Update your `Conv2DTranspose` call to the Keras 2 API: `Conv2DTranspose(10, (3, 3), activation=\"relu\", name=\"Deconv1\", strides=(1, 1), padding=\"valid\")`\n",
      "C:\\Users\\Doctor\\.conda\\envs\\vision-new\\lib\\site-packages\\ipykernel_launcher.py:51: UserWarning: Update your `Conv2DTranspose` call to the Keras 2 API: `Conv2DTranspose(20, (3, 3), activation=\"relu\", name=\"Deconv2\", strides=(1, 1), padding=\"valid\")`\n",
      "C:\\Users\\Doctor\\.conda\\envs\\vision-new\\lib\\site-packages\\ipykernel_launcher.py:59: UserWarning: Update your `Conv2DTranspose` call to the Keras 2 API: `Conv2DTranspose(30, (3, 3), activation=\"relu\", name=\"Deconv3\", strides=(1, 1), padding=\"valid\")`\n",
      "C:\\Users\\Doctor\\.conda\\envs\\vision-new\\lib\\site-packages\\ipykernel_launcher.py:64: UserWarning: Update your `Conv2DTranspose` call to the Keras 2 API: `Conv2DTranspose(40, (3, 3), activation=\"relu\", name=\"Deconv4\", strides=(1, 1), padding=\"valid\")`\n",
      "C:\\Users\\Doctor\\.conda\\envs\\vision-new\\lib\\site-packages\\ipykernel_launcher.py:69: UserWarning: Update your `Conv2DTranspose` call to the Keras 2 API: `Conv2DTranspose(50, (3, 3), activation=\"relu\", name=\"Deconv5\", strides=(1, 1), padding=\"valid\")`\n",
      "C:\\Users\\Doctor\\.conda\\envs\\vision-new\\lib\\site-packages\\ipykernel_launcher.py:77: UserWarning: Update your `Conv2DTranspose` call to the Keras 2 API: `Conv2DTranspose(60, (3, 3), activation=\"relu\", name=\"Deconv6\", strides=(1, 1), padding=\"valid\")`\n",
      "C:\\Users\\Doctor\\.conda\\envs\\vision-new\\lib\\site-packages\\ipykernel_launcher.py:81: UserWarning: Update your `Conv2DTranspose` call to the Keras 2 API: `Conv2DTranspose(1, (3, 3), activation=\"relu\", name=\"Final\", strides=(1, 1), padding=\"valid\")`\n"
     ]
    },
    {
     "name": "stdout",
     "output_type": "stream",
     "text": [
      "_________________________________________________________________\n",
      "Layer (type)                 Output Shape              Param #   \n",
      "=================================================================\n",
      "batch_normalization_1 (Batch (None, 80, 160, 3)        12        \n",
      "_________________________________________________________________\n",
      "Conv1 (Conv2D)               (None, 78, 158, 60)       1680      \n",
      "_________________________________________________________________\n",
      "Conv2 (Conv2D)               (None, 76, 156, 50)       27050     \n",
      "_________________________________________________________________\n",
      "max_pooling2d_1 (MaxPooling2 (None, 38, 78, 50)        0         \n",
      "_________________________________________________________________\n",
      "Conv3 (Conv2D)               (None, 36, 76, 40)        18040     \n",
      "_________________________________________________________________\n",
      "dropout_1 (Dropout)          (None, 36, 76, 40)        0         \n",
      "_________________________________________________________________\n",
      "Conv4 (Conv2D)               (None, 34, 74, 30)        10830     \n",
      "_________________________________________________________________\n",
      "dropout_2 (Dropout)          (None, 34, 74, 30)        0         \n",
      "_________________________________________________________________\n",
      "Conv5 (Conv2D)               (None, 32, 72, 20)        5420      \n",
      "_________________________________________________________________\n",
      "dropout_3 (Dropout)          (None, 32, 72, 20)        0         \n",
      "_________________________________________________________________\n",
      "max_pooling2d_2 (MaxPooling2 (None, 16, 36, 20)        0         \n",
      "_________________________________________________________________\n",
      "Conv6 (Conv2D)               (None, 14, 34, 10)        1810      \n",
      "_________________________________________________________________\n",
      "dropout_4 (Dropout)          (None, 14, 34, 10)        0         \n",
      "_________________________________________________________________\n",
      "Conv7 (Conv2D)               (None, 12, 32, 5)         455       \n",
      "_________________________________________________________________\n",
      "dropout_5 (Dropout)          (None, 12, 32, 5)         0         \n",
      "_________________________________________________________________\n",
      "max_pooling2d_3 (MaxPooling2 (None, 6, 16, 5)          0         \n",
      "_________________________________________________________________\n",
      "up_sampling2d_1 (UpSampling2 (None, 12, 32, 5)         0         \n",
      "_________________________________________________________________\n",
      "Deconv1 (Conv2DTranspose)    (None, 14, 34, 10)        460       \n",
      "_________________________________________________________________\n",
      "dropout_6 (Dropout)          (None, 14, 34, 10)        0         \n",
      "_________________________________________________________________\n",
      "Deconv2 (Conv2DTranspose)    (None, 16, 36, 20)        1820      \n",
      "_________________________________________________________________\n",
      "dropout_7 (Dropout)          (None, 16, 36, 20)        0         \n",
      "_________________________________________________________________\n",
      "up_sampling2d_2 (UpSampling2 (None, 32, 72, 20)        0         \n",
      "_________________________________________________________________\n",
      "Deconv3 (Conv2DTranspose)    (None, 34, 74, 30)        5430      \n",
      "_________________________________________________________________\n",
      "dropout_8 (Dropout)          (None, 34, 74, 30)        0         \n",
      "_________________________________________________________________\n",
      "Deconv4 (Conv2DTranspose)    (None, 36, 76, 40)        10840     \n",
      "_________________________________________________________________\n",
      "dropout_9 (Dropout)          (None, 36, 76, 40)        0         \n",
      "_________________________________________________________________\n",
      "Deconv5 (Conv2DTranspose)    (None, 38, 78, 50)        18050     \n",
      "_________________________________________________________________\n",
      "dropout_10 (Dropout)         (None, 38, 78, 50)        0         \n",
      "_________________________________________________________________\n",
      "up_sampling2d_3 (UpSampling2 (None, 76, 156, 50)       0         \n",
      "_________________________________________________________________\n",
      "Deconv6 (Conv2DTranspose)    (None, 78, 158, 60)       27060     \n",
      "_________________________________________________________________\n",
      "Final (Conv2DTranspose)      (None, 80, 160, 1)        541       \n",
      "=================================================================\n",
      "Total params: 129,498.0\n",
      "Trainable params: 129,492.0\n",
      "Non-trainable params: 6.0\n",
      "_________________________________________________________________\n"
     ]
    }
   ],
   "source": [
    "model = Sequential()\n",
    "# Normalizes incoming inputs. First layer needs the input shape to work\n",
    "model.add(BatchNormalization(input_shape=input_shape))\n",
    "\n",
    "# Below layers were re-named for easier reading of model summary; this not necessary\n",
    "# Conv Layer 1\n",
    "model.add(Convolution2D(60, 3, 3, border_mode='valid', subsample=(1,1), activation = 'relu', name = 'Conv1'))\n",
    "\n",
    "# Conv Layer 2\n",
    "model.add(Convolution2D(50, 3, 3, border_mode='valid', subsample=(1,1), activation = 'relu', name = 'Conv2'))\n",
    "\n",
    "# Pooling 1\n",
    "model.add(MaxPooling2D(pool_size=pool_size))\n",
    "\n",
    "# Conv Layer 3\n",
    "model.add(Convolution2D(40, 3, 3, border_mode='valid', subsample=(1,1), activation = 'relu', name = 'Conv3'))\n",
    "model.add(Dropout(0.2))\n",
    "\n",
    "# Conv Layer 4\n",
    "model.add(Convolution2D(30, 3, 3, border_mode='valid', subsample=(1,1), activation = 'relu', name = 'Conv4'))\n",
    "model.add(Dropout(0.2))\n",
    "\n",
    "# Conv Layer 5\n",
    "model.add(Convolution2D(20, 3, 3, border_mode='valid', subsample=(1,1), activation = 'relu', name = 'Conv5'))\n",
    "model.add(Dropout(0.2))\n",
    "\n",
    "# Pooling 2\n",
    "model.add(MaxPooling2D(pool_size=pool_size))\n",
    "\n",
    "# Conv Layer 6\n",
    "model.add(Convolution2D(10, 3, 3, border_mode='valid', subsample=(1,1), activation = 'relu', name = 'Conv6'))\n",
    "model.add(Dropout(0.2))\n",
    "\n",
    "# Conv Layer 7\n",
    "model.add(Convolution2D(5, 3, 3, border_mode='valid', subsample=(1,1), activation = 'relu', name = 'Conv7'))\n",
    "model.add(Dropout(0.2))\n",
    "\n",
    "# Pooling 3\n",
    "model.add(MaxPooling2D(pool_size=pool_size))\n",
    "\n",
    "# Upsample 1\n",
    "model.add(UpSampling2D(size=pool_size))\n",
    "\n",
    "# Deconv 1\n",
    "model.add(Deconvolution2D(10, 3, 3, border_mode='valid', subsample=(1,1), activation = 'relu', \n",
    "                          output_shape = model.layers[8].output_shape, name = 'Deconv1'))\n",
    "model.add(Dropout(0.2))\n",
    "\n",
    "# Deconv 2\n",
    "model.add(Deconvolution2D(20, 3, 3, border_mode='valid', subsample=(1,1), activation = 'relu', \n",
    "                          output_shape = model.layers[7].output_shape, name = 'Deconv2'))\n",
    "model.add(Dropout(0.2))\n",
    "\n",
    "# Upsample 2\n",
    "model.add(UpSampling2D(size=pool_size))\n",
    "\n",
    "# Deconv 3\n",
    "model.add(Deconvolution2D(30, 3, 3, border_mode='valid', subsample=(1,1), activation = 'relu', \n",
    "                          output_shape = model.layers[5].output_shape, name = 'Deconv3'))\n",
    "model.add(Dropout(0.2))\n",
    "\n",
    "# Deconv 4\n",
    "model.add(Deconvolution2D(40, 3, 3, border_mode='valid', subsample=(1,1), activation = 'relu', \n",
    "                          output_shape = model.layers[4].output_shape, name = 'Deconv4'))\n",
    "model.add(Dropout(0.2))\n",
    "\n",
    "# Deconv 5\n",
    "model.add(Deconvolution2D(50, 3, 3, border_mode='valid', subsample=(1,1), activation = 'relu', \n",
    "                          output_shape = model.layers[3].output_shape, name = 'Deconv5'))\n",
    "model.add(Dropout(0.2))\n",
    "\n",
    "# Upsample 3\n",
    "model.add(UpSampling2D(size=pool_size))\n",
    "\n",
    "# Deconv 6\n",
    "model.add(Deconvolution2D(60, 3, 3, border_mode='valid', subsample=(1,1), activation = 'relu', \n",
    "                          output_shape = model.layers[1].output_shape, name = 'Deconv6'))\n",
    "\n",
    "# Final layer - only including one channel so 1 filter\n",
    "model.add(Deconvolution2D(1, 3, 3, border_mode='valid', subsample=(1,1), activation = 'relu', \n",
    "                          output_shape = model.layers[0].output_shape, name = 'Final'))\n",
    "\n",
    "model.summary()"
   ]
  },
  {
   "cell_type": "markdown",
   "metadata": {
    "collapsed": true
   },
   "source": [
    "# Data feeding"
   ]
  },
  {
   "cell_type": "code",
   "execution_count": 15,
   "metadata": {
    "collapsed": true
   },
   "outputs": [],
   "source": [
    "datagen = ImageDataGenerator()\n",
    "datagen.fit(X_train)"
   ]
  },
  {
   "cell_type": "code",
   "execution_count": 16,
   "metadata": {},
   "outputs": [
    {
     "name": "stderr",
     "output_type": "stream",
     "text": [
      "C:\\Users\\Doctor\\.conda\\envs\\vision-new\\lib\\site-packages\\ipykernel_launcher.py:3: UserWarning: Update your `fit_generator` call to the Keras 2 API: `fit_generator(<keras.pre..., verbose=1, validation_data=(array([[[..., steps_per_epoch=30, epochs=15)`\n",
      "  This is separate from the ipykernel package so we can avoid doing imports until\n"
     ]
    },
    {
     "name": "stdout",
     "output_type": "stream",
     "text": [
      "Epoch 1/15\n",
      "30/30 [==============================] - 78s - loss: 0.0086 - val_loss: 0.0078\n",
      "Epoch 2/15\n",
      "30/30 [==============================] - 74s - loss: 0.0079 - val_loss: 0.0069\n",
      "Epoch 3/15\n",
      "30/30 [==============================] - 69s - loss: 0.0075 - val_loss: 0.0067\n",
      "Epoch 4/15\n",
      "30/30 [==============================] - 69s - loss: 0.0071 - val_loss: 0.0063\n",
      "Epoch 5/15\n",
      "30/30 [==============================] - 68s - loss: 0.0069 - val_loss: 0.0062\n",
      "Epoch 6/15\n",
      "30/30 [==============================] - 67s - loss: 0.0069 - val_loss: 0.0059\n",
      "Epoch 7/15\n",
      "30/30 [==============================] - 66s - loss: 0.0067 - val_loss: 0.0059\n",
      "Epoch 8/15\n",
      "30/30 [==============================] - 66s - loss: 0.0066 - val_loss: 0.0058\n",
      "Epoch 9/15\n",
      "30/30 [==============================] - 65s - loss: 0.0063 - val_loss: 0.0059\n",
      "Epoch 10/15\n",
      "30/30 [==============================] - 65s - loss: 0.0065 - val_loss: 0.0056\n",
      "Epoch 11/15\n",
      "30/30 [==============================] - 65s - loss: 0.0063 - val_loss: 0.0055\n",
      "Epoch 12/15\n",
      "30/30 [==============================] - 65s - loss: 0.0062 - val_loss: 0.0054\n",
      "Epoch 13/15\n",
      "30/30 [==============================] - 65s - loss: 0.0062 - val_loss: 0.0053\n",
      "Epoch 14/15\n",
      "30/30 [==============================] - 64s - loss: 0.0061 - val_loss: 0.0052\n",
      "Epoch 15/15\n",
      "30/30 [==============================] - 65s - loss: 0.0059 - val_loss: 0.0053\n"
     ]
    }
   ],
   "source": [
    "model.compile(optimizer='Adam', loss='mean_squared_error')\n",
    "model.fit_generator(datagen.flow(X_train, y_train, batch_size=batch_size), samples_per_epoch = len(X_train),\n",
    "                    nb_epoch=epochs, verbose=1, validation_data=(X_val, y_val))\n",
    "\n",
    "# Save model architecture and weights\n",
    "model_json = model.to_json()\n",
    "with open(\"lanes_CNN_model.json\", \"w\") as json_file:\n",
    "    json_file.write(model_json)\n",
    "\n",
    "model.save_weights('lanes_CNN_model.h5')\n"
   ]
  },
  {
   "cell_type": "code",
   "execution_count": null,
   "metadata": {
    "collapsed": true
   },
   "outputs": [],
   "source": []
  }
 ],
 "metadata": {
  "kernelspec": {
   "display_name": "Python 3",
   "language": "python",
   "name": "python3"
  },
  "language_info": {
   "codemirror_mode": {
    "name": "ipython",
    "version": 3
   },
   "file_extension": ".py",
   "mimetype": "text/x-python",
   "name": "python",
   "nbconvert_exporter": "python",
   "pygments_lexer": "ipython3",
   "version": "3.6.1"
  },
  "widgets": {
   "state": {},
   "version": "1.1.2"
  }
 },
 "nbformat": 4,
 "nbformat_minor": 2
}
